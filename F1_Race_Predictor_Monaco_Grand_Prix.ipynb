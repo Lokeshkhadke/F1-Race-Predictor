{
  "nbformat": 4,
  "nbformat_minor": 0,
  "metadata": {
    "colab": {
      "provenance": []
    },
    "kernelspec": {
      "name": "python3",
      "display_name": "Python 3"
    },
    "language_info": {
      "name": "python"
    }
  },
  "cells": [
    {
      "cell_type": "markdown",
      "source": [
        "# ** F1 Race Predictor:Monaco Grand Prix Case Study**"
      ],
      "metadata": {
        "id": "1YH3yRN4J1wp"
      }
    },
    {
      "cell_type": "code",
      "execution_count": 7,
      "metadata": {
        "colab": {
          "base_uri": "https://localhost:8080/"
        },
        "id": "GImAsfa4HXmg",
        "outputId": "0cf7bc47-bab8-42c8-eda2-18532966e475"
      },
      "outputs": [
        {
          "output_type": "stream",
          "name": "stdout",
          "text": [
            "Requirement already satisfied: fastf1 in /usr/local/lib/python3.11/dist-packages (3.5.3)\n",
            "Requirement already satisfied: matplotlib<4.0.0,>=3.5.1 in /usr/local/lib/python3.11/dist-packages (from fastf1) (3.10.0)\n",
            "Requirement already satisfied: numpy<3.0.0,>=1.23.1 in /usr/local/lib/python3.11/dist-packages (from fastf1) (2.0.2)\n",
            "Requirement already satisfied: pandas<3.0.0,>=1.4.1 in /usr/local/lib/python3.11/dist-packages (from fastf1) (2.2.2)\n",
            "Requirement already satisfied: python-dateutil in /usr/local/lib/python3.11/dist-packages (from fastf1) (2.9.0.post0)\n",
            "Requirement already satisfied: rapidfuzz in /usr/local/lib/python3.11/dist-packages (from fastf1) (3.13.0)\n",
            "Requirement already satisfied: requests-cache>=1.0.0 in /usr/local/lib/python3.11/dist-packages (from fastf1) (1.2.1)\n",
            "Requirement already satisfied: requests>=2.28.1 in /usr/local/lib/python3.11/dist-packages (from fastf1) (2.32.3)\n",
            "Requirement already satisfied: scipy<2.0.0,>=1.8.1 in /usr/local/lib/python3.11/dist-packages (from fastf1) (1.15.3)\n",
            "Requirement already satisfied: timple>=0.1.6 in /usr/local/lib/python3.11/dist-packages (from fastf1) (0.1.8)\n",
            "Requirement already satisfied: websockets<14,>=10.3 in /usr/local/lib/python3.11/dist-packages (from fastf1) (13.1)\n",
            "Requirement already satisfied: contourpy>=1.0.1 in /usr/local/lib/python3.11/dist-packages (from matplotlib<4.0.0,>=3.5.1->fastf1) (1.3.2)\n",
            "Requirement already satisfied: cycler>=0.10 in /usr/local/lib/python3.11/dist-packages (from matplotlib<4.0.0,>=3.5.1->fastf1) (0.12.1)\n",
            "Requirement already satisfied: fonttools>=4.22.0 in /usr/local/lib/python3.11/dist-packages (from matplotlib<4.0.0,>=3.5.1->fastf1) (4.58.2)\n",
            "Requirement already satisfied: kiwisolver>=1.3.1 in /usr/local/lib/python3.11/dist-packages (from matplotlib<4.0.0,>=3.5.1->fastf1) (1.4.8)\n",
            "Requirement already satisfied: packaging>=20.0 in /usr/local/lib/python3.11/dist-packages (from matplotlib<4.0.0,>=3.5.1->fastf1) (24.2)\n",
            "Requirement already satisfied: pillow>=8 in /usr/local/lib/python3.11/dist-packages (from matplotlib<4.0.0,>=3.5.1->fastf1) (11.2.1)\n",
            "Requirement already satisfied: pyparsing>=2.3.1 in /usr/local/lib/python3.11/dist-packages (from matplotlib<4.0.0,>=3.5.1->fastf1) (3.2.3)\n",
            "Requirement already satisfied: pytz>=2020.1 in /usr/local/lib/python3.11/dist-packages (from pandas<3.0.0,>=1.4.1->fastf1) (2025.2)\n",
            "Requirement already satisfied: tzdata>=2022.7 in /usr/local/lib/python3.11/dist-packages (from pandas<3.0.0,>=1.4.1->fastf1) (2025.2)\n",
            "Requirement already satisfied: six>=1.5 in /usr/local/lib/python3.11/dist-packages (from python-dateutil->fastf1) (1.17.0)\n",
            "Requirement already satisfied: charset-normalizer<4,>=2 in /usr/local/lib/python3.11/dist-packages (from requests>=2.28.1->fastf1) (3.4.2)\n",
            "Requirement already satisfied: idna<4,>=2.5 in /usr/local/lib/python3.11/dist-packages (from requests>=2.28.1->fastf1) (3.10)\n",
            "Requirement already satisfied: urllib3<3,>=1.21.1 in /usr/local/lib/python3.11/dist-packages (from requests>=2.28.1->fastf1) (2.4.0)\n",
            "Requirement already satisfied: certifi>=2017.4.17 in /usr/local/lib/python3.11/dist-packages (from requests>=2.28.1->fastf1) (2025.4.26)\n",
            "Requirement already satisfied: attrs>=21.2 in /usr/local/lib/python3.11/dist-packages (from requests-cache>=1.0.0->fastf1) (25.3.0)\n",
            "Requirement already satisfied: cattrs>=22.2 in /usr/local/lib/python3.11/dist-packages (from requests-cache>=1.0.0->fastf1) (25.1.1)\n",
            "Requirement already satisfied: platformdirs>=2.5 in /usr/local/lib/python3.11/dist-packages (from requests-cache>=1.0.0->fastf1) (4.3.8)\n",
            "Requirement already satisfied: url-normalize>=1.4 in /usr/local/lib/python3.11/dist-packages (from requests-cache>=1.0.0->fastf1) (2.2.1)\n",
            "Requirement already satisfied: typing-extensions>=4.12.2 in /usr/local/lib/python3.11/dist-packages (from cattrs>=22.2->requests-cache>=1.0.0->fastf1) (4.14.0)\n"
          ]
        }
      ],
      "source": [
        "#INSTALL NECESSARY PACKAGES AND LIBRARIES\n",
        "!pip install fastf1\n",
        "import fastf1          # F1 timing data access\n",
        "import pandas as pd\n",
        "import numpy as np\n",
        "from sklearn.model_selection import train_test_split\n",
        "from sklearn.ensemble import GradientBoostingRegressor   # ML model\n",
        "from sklearn.metrics import mean_absolute_error          # Model evaluation\n",
        "import matplotlib.pyplot as plt\n",
        "from sklearn.impute import SimpleImputer                 # Handling missing data"
      ]
    },
    {
      "cell_type": "code",
      "source": [
        "# Initialize cache with improved error handling\n",
        "def initialize_cache():\n",
        "    try:\n",
        "        cache_dir = \"f1_cache\"         # Local directory to store cached data\n",
        "        fastf1.Cache.enable_cache(cache_dir)       # To Enable caching\n",
        "        print(f\"Cache initialized at {cache_dir}\")\n",
        "    except Exception as e:\n",
        "        print(f\"Cache initialization warning: {str(e)[:100]}...\")    # Truncate long errors\n",
        "\n",
        "initialize_cache()           # Call the function to set up cache"
      ],
      "metadata": {
        "colab": {
          "base_uri": "https://localhost:8080/"
        },
        "id": "OSyDRdQ_YkZu",
        "outputId": "1edb1199-a42f-4fac-87d1-f28f883b6392"
      },
      "execution_count": 8,
      "outputs": [
        {
          "output_type": "stream",
          "name": "stdout",
          "text": [
            "Cache initialization warning: Cache directory does not exist! Please check for typos or create it first....\n"
          ]
        }
      ]
    },
    {
      "cell_type": "code",
      "source": [
        "# Driver code mapping: - converts driver numbers to 3-letter codes\n",
        "DRIVER_MAPPING = {\n",
        "    '16': 'LEC', '81': 'PIA', '55': 'SAI', '4': 'NOR',\n",
        "    '63': 'RUS', '1': 'VER', '44': 'HAM', '22': 'TSU',\n",
        "    '23': 'ALB', '10': 'GAS', '14': 'ALO', '3': 'RIC',\n",
        "    '77': 'BOT', '18': 'STR', '2': 'SAR', '24': 'ZHO',\n",
        "    '31': 'OCO', '11': 'PER', '27': 'HUL', '20': 'MAG'\n",
        "}"
      ],
      "metadata": {
        "id": "FOX5ShYCYkWo"
      },
      "execution_count": 9,
      "outputs": []
    },
    {
      "cell_type": "code",
      "source": [
        "# Monaco-specific parameters that affect race outcomes\n",
        "MONACO_FEATURES = {\n",
        "    'safety_car_prob': 0.65,  # Historical probability, High probability due to tight circuit\n",
        "    'pit_loss_time': 20.5,    # Time lost during pit stops (longer than other tracks)\n",
        "    'wet_penalties': {        # How much slower drivers are in wet conditions\n",
        "        'VER': 1.02, 'LEC': 1.03, 'SAI': 1.03, 'NOR': 1.04,\n",
        "        'PIA': 1.04, 'HAM': 1.01, 'RUS': 1.02, 'ALO': 1.05,\n",
        "        'STR': 1.06, 'GAS': 1.04, 'OCO': 1.04, 'TSU': 1.07,\n",
        "        'ALB': 1.05, 'BOT': 1.06, 'ZHO': 1.06, 'RIC': 1.03,\n",
        "        'HUL': 1.05, 'MAG': 1.06, 'PER': 1.03\n",
        "    }\n",
        "}"
      ],
      "metadata": {
        "id": "24k_uYsKYkT4"
      },
      "execution_count": 10,
      "outputs": []
    },
    {
      "cell_type": "code",
      "source": [
        "# Weather data simulation for Monaco\n",
        "def get_monaco_weather():\n",
        "    return {\n",
        "        'temp': 22.5,       # Average May temperature in Monaco\n",
        "        'humidity': 65,     # Typical humidity percentage\n",
        "        'rain_prob': 0.25,  # 25% chance of rain(historical average)\n",
        "        'wind_direction': 'NE'  # Northeast wind typical for Monaco\n",
        "    }"
      ],
      "metadata": {
        "id": "VJT2_E2rYkOq"
      },
      "execution_count": 11,
      "outputs": []
    },
    {
      "cell_type": "code",
      "source": [
        "# Load and process session data\n",
        "def load_session_data(year, event, session):\n",
        "    try:\n",
        "      # Load session data from FastF1\n",
        "        session = fastf1.get_session(year, event, session)\n",
        "        session.load()\n",
        "        # Extract relevant lap data columns\n",
        "        laps = session.laps[[\"DriverNumber\", \"LapTime\", \"Sector1Time\", \"Sector2Time\", \"Sector3Time\", \"Compound\"]].copy()\n",
        "        laps.dropna(inplace=True)\n",
        "\n",
        "        # Map driver numbers to 3-letter codes\n",
        "        laps['Driver'] = laps['DriverNumber'].map(DRIVER_MAPPING)\n",
        "        laps = laps[laps['Driver'].notna()]\n",
        "\n",
        "        # Time conversions(Convert timedelta objects to seconds for analysis)\n",
        "        time_cols = [\"LapTime\", \"Sector1Time\", \"Sector2Time\", \"Sector3Time\"]\n",
        "        for col in time_cols:\n",
        "            laps[f\"{col}_s\"] = laps[col].dt.total_seconds()\n",
        "\n",
        "        return laps\n",
        "\n",
        "    except Exception as e:\n",
        "        print(f\"Session loading error: {str(e)[:100]}...\")\n",
        "        # Fallback data if API fails - creates realistic sample data\n",
        "        drivers = ['VER', 'LEC', 'SAI', 'NOR', 'PIA', 'RUS', 'HAM', 'ALB', 'ALO', 'STR']\n",
        "        return pd.DataFrame({\n",
        "            'Driver': drivers,\n",
        "            'LapTime_s': np.linspace(78.0, 82.0, len(drivers)),       # Linear time spread\n",
        "            'Sector1Time_s': np.linspace(26.0, 27.5, len(drivers)),\n",
        "            'Sector2Time_s': np.linspace(26.5, 28.0, len(drivers)),\n",
        "            'Sector3Time_s': np.linspace(25.5, 26.5, len(drivers))\n",
        "        })"
      ],
      "metadata": {
        "id": "oFgmq5GCY3uq"
      },
      "execution_count": 12,
      "outputs": []
    },
    {
      "cell_type": "code",
      "source": [
        "def predict_monaco_gp():\n",
        "     # 1. DATA LOADING AND PREPARATION\n",
        "    laps = load_session_data(2024, \"Monaco\", \"R\")     # Load historical race data\n",
        "    weather = get_monaco_weather()                    # Get simulated weather\n",
        "\n",
        "    # Create hypothetical qualifying data for prediction\n",
        "    qualifying_2025 = pd.DataFrame({\n",
        "        \"Driver\": [\"VER\", \"NOR\", \"PIA\", \"RUS\", \"SAI\", \"ALB\", \"LEC\", \"OCO\",\n",
        "                  \"HAM\", \"STR\", \"GAS\", \"ALO\", \"HUL\", \"TSU\", \"RIC\", \"MAG\", \"BOT\", \"ZHO\"],\n",
        "        \"QualifyingTime_s\": [70.669, 69.954, 70.129, 70.500, 71.362, 71.213,\n",
        "                            70.063, 70.942, 70.382, 72.563, 71.994, 70.924,\n",
        "                            71.596, 71.200, 71.400, 72.100, 72.300, 72.500],\n",
        "        \"Team\": [\"Red Bull\", \"McLaren\", \"McLaren\", \"Mercedes\", \"Ferrari\", \"Williams\",\n",
        "                \"Ferrari\", \"Alpine\", \"Mercedes\", \"Aston Martin\", \"Alpine\", \"Aston Martin\",\n",
        "                \"Haas\", \"RB\", \"RB\", \"Haas\", \"Sauber\", \"Sauber\"],\n",
        "        \"TeamPoints\": [279, 246, 246, 147, 114, 28, 114, 50, 147, 77, 50, 77, 20, 25, 25, 20, 15, 15]\n",
        "    })\n",
        "\n",
        "    # 2. FEATURE ENGINEERING\n",
        "    # Merge historical averages with current qualifying data\n",
        "    historical_avg = laps.groupby(\"Driver\")[[\"LapTime_s\", \"Sector1Time_s\", \"Sector2Time_s\", \"Sector3Time_s\"]].mean().reset_index()\n",
        "    data = qualifying_2025.merge(historical_avg, on=\"Driver\", how=\"left\")\n",
        "\n",
        "    # Add Monaco-specific features\n",
        "    data['SafetyCarProb'] = MONACO_FEATURES['safety_car_prob']      # High SC probability\n",
        "    data['PitLossTime'] = MONACO_FEATURES['pit_loss_time']          # Time lost during pits\n",
        "    data['RainProbability'] = weather['rain_prob']                   # Chance of rain\n",
        "\n",
        "    # Apply wet weather penalties if rain probability > 30%\n",
        "    if weather['rain_prob'] > 0.3:\n",
        "        data['WetPenalty'] = data['Driver'].map(MONACO_FEATURES['wet_penalties'])\n",
        "    else:\n",
        "        data['WetPenalty'] = 1.0           # No penalty in dry conditions\n",
        "\n",
        "    # Handle missing values with reasonable estimates\n",
        "    data.fillna({\n",
        "        'LapTime_s': data['QualifyingTime_s'] * 1.1,             # Race pace ~10% slower than quali\n",
        "        'Sector1Time_s': data['QualifyingTime_s'] * 0.35,        # Sector time estimates\n",
        "        'Sector2Time_s': data['QualifyingTime_s'] * 0.35,\n",
        "        'Sector3Time_s': data['QualifyingTime_s'] * 0.3,\n",
        "    }, inplace=True)\n",
        "\n",
        "   # Select final features for model training\n",
        "    features = [\n",
        "        'QualifyingTime_s', 'Sector1Time_s', 'Sector2Time_s', 'Sector3Time_s',\n",
        "        'TeamPoints', 'SafetyCarProb', 'PitLossTime', 'RainProbability', 'WetPenalty'\n",
        "    ]\n",
        "    X = data[features]\n",
        "    y = data['LapTime_s']\n",
        "\n",
        "    # 3. MODEL TRAINING\n",
        "    # Split data into training and test sets\n",
        "    X_train, X_test, y_train, y_test = train_test_split(X, y, test_size=0.2, random_state=42)\n",
        "    # Initialize and train Gradient Boosting model\n",
        "    model = GradientBoostingRegressor(\n",
        "        n_estimators=200,   # Number of boosting stages\n",
        "        learning_rate=0.05, # Shrinkage factor\n",
        "        max_depth=5,        # Maximum tree depth\n",
        "        random_state=42     # Reproducibility\n",
        "    )\n",
        "    model.fit(X_train, y_train)   # Train model\n",
        "    # 4. PREDICTIONS\n",
        "    # Generate predictions with enhanced tie-breaking\n",
        "    data['PredictedTime'] = model.predict(X)\n",
        "\n",
        "     # Apply tie-breakers to handle similar performances:\n",
        "    # 1. Small weight to qualifying time (better qualifiers get slight advantage)\n",
        "    # 2. Team points (higher-ranked teams get minor benefit)\n",
        "    # 3. Tiny random noise (final tie-breaker)\n",
        "    data['PredictedTime'] += (data['QualifyingTime_s'] * 0.00001 +\n",
        "                             data['TeamPoints'] * 0.000001 +\n",
        "                             np.random.normal(0, 0.0001, len(data)))\n",
        "\n",
        "    # 5.FINAL RESULTS PROCESSING\n",
        "    # Sort drivers by predicted time\n",
        "    results = data.sort_values('PredictedTime')[['Driver', 'Team', 'PredictedTime']]\n",
        "    results['Position'] = range(1, len(results)+1)\n",
        "\n",
        "    # Print results\n",
        "    print(\"\\n🏁 Predicted 2025 Monaco GP Results 🏁\")\n",
        "    print(results.to_string(index=False))\n",
        "\n",
        "    # Model evaluation\n",
        "    y_pred = model.predict(X_test)\n",
        "    mae = mean_absolute_error(y_test, y_pred)\n",
        "    print(f\"\\n🔍 Model MAE: {mae:.3f} seconds\")\n",
        "\n",
        "    # Podium announcement\n",
        "    podium = results.head(3)\n",
        "    print(\"\\n🏆 Predicted Podium 🏆\")\n",
        "    for pos, (_, row) in enumerate(podium.iterrows(), 1):\n",
        "        print(f\"🥇 P{pos}: {row['Driver']} ({row['Team']}) - {row['PredictedTime']:.3f}s\")\n",
        "\n",
        "    # Feature importance\n",
        "    plt.figure(figsize=(6,4))\n",
        "    plt.barh(features, model.feature_importances_)\n",
        "    plt.title(\"Monaco GP Feature Importance\")\n",
        "    plt.tight_layout()\n",
        "    plt.show()\n",
        "\n",
        "# Run prediction\n",
        "predict_monaco_gp()"
      ],
      "metadata": {
        "colab": {
          "base_uri": "https://localhost:8080/",
          "height": 1000
        },
        "id": "nxlwg-Lwgd44",
        "outputId": "9d199a29-db97-464e-c266-a2836dde45ab"
      },
      "execution_count": 13,
      "outputs": [
        {
          "output_type": "stream",
          "name": "stderr",
          "text": [
            "core           INFO \tLoading data for Monaco Grand Prix - Race [v3.5.3]\n",
            "INFO:fastf1.fastf1.core:Loading data for Monaco Grand Prix - Race [v3.5.3]\n",
            "req            INFO \tUsing cached data for session_info\n",
            "INFO:fastf1.fastf1.req:Using cached data for session_info\n",
            "req            INFO \tUsing cached data for driver_info\n",
            "INFO:fastf1.fastf1.req:Using cached data for driver_info\n",
            "req            INFO \tUsing cached data for session_status_data\n",
            "INFO:fastf1.fastf1.req:Using cached data for session_status_data\n",
            "req            INFO \tUsing cached data for lap_count\n",
            "INFO:fastf1.fastf1.req:Using cached data for lap_count\n",
            "req            INFO \tUsing cached data for track_status_data\n",
            "INFO:fastf1.fastf1.req:Using cached data for track_status_data\n",
            "req            INFO \tUsing cached data for _extended_timing_data\n",
            "INFO:fastf1.fastf1.req:Using cached data for _extended_timing_data\n",
            "req            INFO \tUsing cached data for timing_app_data\n",
            "INFO:fastf1.fastf1.req:Using cached data for timing_app_data\n",
            "core           INFO \tProcessing timing data...\n",
            "INFO:fastf1.fastf1.core:Processing timing data...\n",
            "req            INFO \tUsing cached data for car_data\n",
            "INFO:fastf1.fastf1.req:Using cached data for car_data\n",
            "req            INFO \tUsing cached data for position_data\n",
            "INFO:fastf1.fastf1.req:Using cached data for position_data\n",
            "req            INFO \tUsing cached data for weather_data\n",
            "INFO:fastf1.fastf1.req:Using cached data for weather_data\n",
            "req            INFO \tUsing cached data for race_control_messages\n",
            "INFO:fastf1.fastf1.req:Using cached data for race_control_messages\n",
            "core           INFO \tFinished loading data for 20 drivers: ['16', '81', '55', '4', '63', '1', '44', '22', '23', '10', '14', '3', '77', '18', '2', '24', '31', '11', '27', '20']\n",
            "INFO:fastf1.fastf1.core:Finished loading data for 20 drivers: ['16', '81', '55', '4', '63', '1', '44', '22', '23', '10', '14', '3', '77', '18', '2', '24', '31', '11', '27', '20']\n"
          ]
        },
        {
          "output_type": "stream",
          "name": "stdout",
          "text": [
            "\n",
            "🏁 Predicted 2025 Monaco GP Results 🏁\n",
            "Driver         Team  PredictedTime  Position\n",
            "   OCO       Alpine      78.036804         1\n",
            "   LEC      Ferrari      78.439890         2\n",
            "   NOR      McLaren      78.481367         3\n",
            "   VER     Red Bull      78.483145         4\n",
            "   SAI      Ferrari      78.524057         5\n",
            "   PIA      McLaren      78.525190         6\n",
            "   HAM     Mercedes      78.577912         7\n",
            "   RUS     Mercedes      78.590437         8\n",
            "   HUL         Haas      78.756269         9\n",
            "   MAG         Haas      79.310745        10\n",
            "   TSU           RB      80.874744        11\n",
            "   GAS       Alpine      81.028334        12\n",
            "   BOT       Sauber      81.044575        13\n",
            "   ALO Aston Martin      81.150322        14\n",
            "   ALB     Williams      81.209470        15\n",
            "   RIC           RB      81.230233        16\n",
            "   STR Aston Martin      81.318921        17\n",
            "   ZHO       Sauber      81.661489        18\n",
            "\n",
            "🔍 Model MAE: 0.103 seconds\n",
            "\n",
            "🏆 Predicted Podium 🏆\n",
            "🥇 P1: OCO (Alpine) - 78.037s\n",
            "🥇 P2: LEC (Ferrari) - 78.440s\n",
            "🥇 P3: NOR (McLaren) - 78.481s\n"
          ]
        },
        {
          "output_type": "display_data",
          "data": {
            "text/plain": [
              "<Figure size 600x400 with 1 Axes>"
            ],
            "image/png": "[encoded data removed]"
          },
          "metadata": {}
        }
      ]
    }
  ]
}